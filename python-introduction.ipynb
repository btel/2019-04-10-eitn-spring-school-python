{
 "cells": [
  {
   "cell_type": "markdown",
   "metadata": {},
   "source": [
    "# Python tutorial"
   ]
  },
  {
   "cell_type": "markdown",
   "metadata": {},
   "source": [
    "EITN Spring School, March 19th, 2018\n",
    "\n",
    "Bartosz Teleńczuk and OSS comunity\n",
    "\n",
    "*e-mail*: bartosz@telenczuk.pl <br/>\n",
    "*website*: http://datascience.telenczuk.pl"
   ]
  },
  {
   "cell_type": "markdown",
   "metadata": {},
   "source": [
    "## Requirements\n",
    "\n",
    "* Python 3.x\n",
    "* Jupyter Notebook\n",
    "* NumPy >= 1.10\n",
    "* matplotlib\n",
    "\n",
    "If you use [anaconda](https://www.continuum.io/downloads) these libaries should be already installed in your system"
   ]
  },
  {
   "cell_type": "markdown",
   "metadata": {},
   "source": [
    "## Other materials\n",
    "\n",
    "* Gaël Varoquaux, Emmanuelle Gouillart and Olav Vahtras (editors), [SciPy Lectures](http://scipy-lectures.org)\n",
    "* Software Carpentry community, [Programming with Python](http://swcarpentry.github.io/python-novice-inflammation/)\n",
    "* NumPy community, [NumPy Docs](http://docs.scipy.org/doc/numpy/)\n",
    "* Nicolas Rougier, [100 NumPy exercises](https://github.com/rougier/numpy-100)\n",
    "* Nicolas Rougier, [From Python to Numpy](http://www.labri.fr/perso/nrougier/from-python-to-numpy/index.html)\n",
    "* Bartosz Teleńczuk, [Advanced NumPy lesson](https://github.com/paris-swc/advanced-numpy-lesson)\n"
   ]
  },
  {
   "cell_type": "markdown",
   "metadata": {},
   "source": [
    "# Basics"
   ]
  },
  {
   "cell_type": "code",
   "execution_count": 1,
   "metadata": {},
   "outputs": [
    {
     "name": "stdout",
     "output_type": "stream",
     "text": [
      "Hello, EITN!\n"
     ]
    }
   ],
   "source": [
    "print(\"Hello, EITN!\")"
   ]
  },
  {
   "cell_type": "code",
   "execution_count": 2,
   "metadata": {},
   "outputs": [
    {
     "name": "stdout",
     "output_type": "stream",
     "text": [
      "4\n"
     ]
    }
   ],
   "source": [
    "a = 2 + 2\n",
    "print(a)"
   ]
  },
  {
   "cell_type": "code",
   "execution_count": 3,
   "metadata": {},
   "outputs": [
    {
     "name": "stdout",
     "output_type": "stream",
     "text": [
      "2\n"
     ]
    }
   ],
   "source": [
    "# Tuples\n",
    "\n",
    "a_tuple = (2, 5)\n",
    "left, right = a_tuple\n",
    "print(left)"
   ]
  },
  {
   "cell_type": "code",
   "execution_count": 4,
   "metadata": {},
   "outputs": [
    {
     "name": "stdout",
     "output_type": "stream",
     "text": [
      "[3, 5]\n"
     ]
    }
   ],
   "source": [
    "## Lists\n",
    "\n",
    "a_list = [2, 5]\n",
    "a_list[0] = 3\n",
    "print(a_list)"
   ]
  },
  {
   "cell_type": "code",
   "execution_count": 5,
   "metadata": {},
   "outputs": [
    {
     "name": "stdout",
     "output_type": "stream",
     "text": [
      "Iteration 0\n",
      "Iteration 1\n",
      "Iteration 2\n"
     ]
    }
   ],
   "source": [
    "## For loops\n",
    "\n",
    "for i in range(3):\n",
    "    print(\"Iteration\", i)"
   ]
  },
  {
   "cell_type": "markdown",
   "metadata": {},
   "source": [
    "Note that the syntax of **for loops** differs in Python from many other languages:\n",
    "\n",
    "* we use the keyword `range` for defining the initial value of the iteration index, its final value, and the increment\n",
    "* no begin/end clauses -- for loop body is delimited by the indentation (4 spaces)"
   ]
  },
  {
   "cell_type": "markdown",
   "metadata": {
    "collapsed": true
   },
   "source": [
    "# What is NumPy?"
   ]
  },
  {
   "cell_type": "markdown",
   "metadata": {},
   "source": [
    "* memory-efficient container for multi-dimensional homogeneous (mainly numerical) data (NumPy array)\n",
    "\n",
    "* fast vectorised operations on arrays\n",
    "\n",
    "* library general purpose functions: data reading/writing, linear algebra, FFT etc. (more scientific functions are implemented in SciPy lecture)\n",
    "\n",
    "* main applications: signal processing, image processing, analysis of raw data from measurment instruments\n"
   ]
  },
  {
   "cell_type": "markdown",
   "metadata": {},
   "source": [
    "## Importing NumPy"
   ]
  },
  {
   "cell_type": "code",
   "execution_count": 6,
   "metadata": {},
   "outputs": [],
   "source": [
    "import numpy as np"
   ]
  },
  {
   "cell_type": "code",
   "execution_count": 7,
   "metadata": {},
   "outputs": [
    {
     "name": "stdout",
     "output_type": "stream",
     "text": [
      "[1 2 3 4]\n"
     ]
    }
   ],
   "source": [
    "new_array = np.array([1, 2, 3, 4])\n",
    "print(new_array)"
   ]
  },
  {
   "cell_type": "markdown",
   "metadata": {},
   "source": [
    "You can also create arrays of specific dimensions initialised with zeros or ones:\n"
   ]
  },
  {
   "cell_type": "code",
   "execution_count": 8,
   "metadata": {},
   "outputs": [
    {
     "data": {
      "text/plain": [
       "array([0., 0., 0., 0., 0.])"
      ]
     },
     "execution_count": 8,
     "metadata": {},
     "output_type": "execute_result"
    }
   ],
   "source": [
    "np.zeros(5)"
   ]
  },
  {
   "cell_type": "code",
   "execution_count": 9,
   "metadata": {},
   "outputs": [
    {
     "data": {
      "text/plain": [
       "array([1., 1., 1., 1., 1.])"
      ]
     },
     "execution_count": 9,
     "metadata": {},
     "output_type": "execute_result"
    }
   ],
   "source": [
    "np.ones(5)"
   ]
  },
  {
   "cell_type": "markdown",
   "metadata": {},
   "source": [
    "### Exercise\n",
    "\n",
    "Create the following array and store in a new variable called `a`:\n",
    "\n",
    "```\n",
    "[0, 5, 8, 10]\n",
    "```"
   ]
  },
  {
   "cell_type": "markdown",
   "metadata": {},
   "source": [
    "## Loading data\n",
    "\n",
    "We are studying **local field potentials** (LFP) recorded in humans. The short data segment that we are going to analyse here consists of 5 seconds of LFP recorded from 5 different channels (electrodes).\n",
    "\n",
    "First, we will download the data from the internet. Of course, we can use Python standard library to do that:"
   ]
  },
  {
   "cell_type": "code",
   "execution_count": 38,
   "metadata": {},
   "outputs": [
    {
     "data": {
      "text/plain": [
       "('lfp_data.csv', <http.client.HTTPMessage at 0x7f001daa97f0>)"
      ]
     },
     "execution_count": 38,
     "metadata": {},
     "output_type": "execute_result"
    }
   ],
   "source": [
    "from urllib.request import urlretrieve\n",
    "urlretrieve('http://tinyurl.com/eitn-school-2019', 'lfp_data.csv')"
   ]
  },
  {
   "cell_type": "markdown",
   "metadata": {},
   "source": [
    "The data sets are stored in comma-separated values (CSV) format: each row holds information for a time point, and the columns represent channels. The first few rows of our first file look like this:"
   ]
  },
  {
   "cell_type": "code",
   "execution_count": 11,
   "metadata": {},
   "outputs": [
    {
     "name": "stdout",
     "output_type": "stream",
     "text": [
      "2.799,-2.622,3.282,5.347,14.977,-4.088,14.369,12.822,17.566,8.630\r\n",
      "3.490,2.981,6.343,16.577,22.077,-7.614,33.572,31.573,34.571,16.949\r\n",
      "10.835,5.919,13.634,24.452,25.687,-9.133,22.580,31.077,34.394,24.428\r\n",
      "10.280,8.999,17.101,19.872,17.126,0.535,24.727,30.549,30.826,14.465\r\n",
      "4.521,11.578,11.792,14.644,9.768,1.607,22.464,23.721,19.347,9.844\r\n",
      "-4.515,3.062,11.140,7.918,8.177,-2.098,20.750,25.216,16.156,22.911\r\n",
      "-12.754,5.800,3.569,2.479,-3.858,8.087,16.445,17.902,18.074,19.659\r\n",
      "-25.156,3.728,-0.911,3.077,-2.544,-1.875,18.459,24.377,15.030,8.702\r\n",
      "-34.032,3.549,2.209,7.571,-8.446,-3.040,13.981,31.504,19.831,4.144\r\n",
      "-34.826,7.614,0.814,11.856,-4.948,-3.165,11.061,33.469,22.381,10.277\r\n"
     ]
    }
   ],
   "source": [
    "# below command works only for UNIX-based systems\n",
    "!head lfp_data.csv\n"
   ]
  },
  {
   "cell_type": "markdown",
   "metadata": {},
   "source": [
    "<div class=\"alert alert-warning\">\n",
    "    \n",
    "**Note** If you don't have the file. You can create an artificial dataset using the following command. It won't be as interesting as the real LFP, but it will allow you to finish the exercies.\n",
    "\n",
    "```python\n",
    "data = np.random.rand(6250, 10)\n",
    "t = np.arange(6250)\n",
    "phases = np.random.rand(10) * np.pi * 2\n",
    "data = data * 0.1 * np.sin(t[:, None] / 1250 * 5 * 2 * np.pi + phases[None, :])\n",
    "```\n",
    "\n",
    "</div>\n"
   ]
  },
  {
   "cell_type": "markdown",
   "metadata": {},
   "source": [
    "After you have downloaded the file, you can load it using `numpy`:"
   ]
  },
  {
   "cell_type": "code",
   "execution_count": 12,
   "metadata": {},
   "outputs": [],
   "source": [
    "data = np.loadtxt(fname='lfp_data.csv', delimiter=',')"
   ]
  },
  {
   "cell_type": "markdown",
   "metadata": {},
   "source": [
    "## Explore array"
   ]
  },
  {
   "cell_type": "code",
   "execution_count": 13,
   "metadata": {},
   "outputs": [
    {
     "name": "stdout",
     "output_type": "stream",
     "text": [
      "[[  2.799  -2.622   3.282 ...  12.822  17.566   8.63 ]\n",
      " [  3.49    2.981   6.343 ...  31.573  34.571  16.949]\n",
      " [ 10.835   5.919  13.634 ...  31.077  34.394  24.428]\n",
      " ...\n",
      " [ -6.06   54.613  -6.874 ... -13.708 -22.939 -43.404]\n",
      " [-11.37   54.027  -0.869 ... -13.252 -29.308 -40.092]\n",
      " [ -3.006  48.919  -4.313 ... -12.503 -34.508 -36.769]]\n"
     ]
    }
   ],
   "source": [
    "print(data)"
   ]
  },
  {
   "cell_type": "code",
   "execution_count": 14,
   "metadata": {},
   "outputs": [
    {
     "name": "stdout",
     "output_type": "stream",
     "text": [
      "float64\n",
      "(6250, 10)\n"
     ]
    }
   ],
   "source": [
    "print(data.dtype)\n",
    "print(data.shape)"
   ]
  },
  {
   "cell_type": "code",
   "execution_count": 15,
   "metadata": {},
   "outputs": [
    {
     "name": "stdout",
     "output_type": "stream",
     "text": [
      "5.0 s\n"
     ]
    }
   ],
   "source": [
    "number_of_points, number_of_channels = data.shape\n",
    "sampling_frequency = 1250\n",
    "total_time = number_of_points / sampling_frequency\n",
    "print(total_time, 's')"
   ]
  },
  {
   "cell_type": "markdown",
   "metadata": {},
   "source": [
    "## Plotting"
   ]
  },
  {
   "cell_type": "markdown",
   "metadata": {},
   "source": [
    "We can plot the data using `matplotlib` library:"
   ]
  },
  {
   "cell_type": "code",
   "execution_count": 16,
   "metadata": {},
   "outputs": [
    {
     "data": {
      "text/plain": [
       "<Figure size 640x480 with 1 Axes>"
      ]
     },
     "metadata": {},
     "output_type": "display_data"
    }
   ],
   "source": [
    "import matplotlib.pyplot as plt\n",
    "plt.plot(data)\n",
    "plt.show()"
   ]
  },
  {
   "cell_type": "markdown",
   "metadata": {},
   "source": [
    "**Note** If the above figure appears only after you call `plt.show()` function, in the notebook you can change this behaviour using this command:"
   ]
  },
  {
   "cell_type": "code",
   "execution_count": 17,
   "metadata": {},
   "outputs": [
    {
     "data": {
      "text/plain": [
       "[<matplotlib.lines.Line2D at 0x7f0040af49b0>,\n",
       " <matplotlib.lines.Line2D at 0x7f0021b654a8>,\n",
       " <matplotlib.lines.Line2D at 0x7f0021b655f8>,\n",
       " <matplotlib.lines.Line2D at 0x7f0021b65748>,\n",
       " <matplotlib.lines.Line2D at 0x7f0021b65898>,\n",
       " <matplotlib.lines.Line2D at 0x7f0021b659e8>,\n",
       " <matplotlib.lines.Line2D at 0x7f0021b65b38>,\n",
       " <matplotlib.lines.Line2D at 0x7f0021b65c88>,\n",
       " <matplotlib.lines.Line2D at 0x7f0021b65dd8>,\n",
       " <matplotlib.lines.Line2D at 0x7f0021b65f28>]"
      ]
     },
     "execution_count": 17,
     "metadata": {},
     "output_type": "execute_result"
    },
    {
     "data": {
      "image/png": "[encoded data removed]",
      "text/plain": [
       "<Figure size 432x288 with 1 Axes>"
      ]
     },
     "metadata": {
      "needs_background": "light"
     },
     "output_type": "display_data"
    }
   ],
   "source": [
    "%matplotlib inline\n",
    "plt.plot(data)"
   ]
  },
  {
   "cell_type": "markdown",
   "metadata": {},
   "source": [
    "## Indexing"
   ]
  },
  {
   "cell_type": "markdown",
   "metadata": {},
   "source": [
    "Like lists and tuples the NumPy arrays are zero-indexed:"
   ]
  },
  {
   "cell_type": "code",
   "execution_count": 18,
   "metadata": {},
   "outputs": [
    {
     "data": {
      "text/plain": [
       "2.799"
      ]
     },
     "execution_count": 18,
     "metadata": {},
     "output_type": "execute_result"
    }
   ],
   "source": [
    "data[0, 0]"
   ]
  },
  {
   "cell_type": "markdown",
   "metadata": {},
   "source": [
    "It means that that the third element in the first row has an index of [0, 2]:"
   ]
  },
  {
   "cell_type": "code",
   "execution_count": 19,
   "metadata": {},
   "outputs": [
    {
     "data": {
      "text/plain": [
       "3.282"
      ]
     },
     "execution_count": 19,
     "metadata": {},
     "output_type": "execute_result"
    }
   ],
   "source": [
    "data[0, 2]"
   ]
  },
  {
   "cell_type": "markdown",
   "metadata": {},
   "source": [
    "We can also assign the element with a new value:"
   ]
  },
  {
   "cell_type": "code",
   "execution_count": 20,
   "metadata": {},
   "outputs": [
    {
     "name": "stdout",
     "output_type": "stream",
     "text": [
      "100.0\n"
     ]
    }
   ],
   "source": [
    "data[0, 2] = 100.\n",
    "print(data[0, 2])"
   ]
  },
  {
   "cell_type": "markdown",
   "metadata": {},
   "source": [
    "NumPy (and Python in general) checks the bounds of the array:"
   ]
  },
  {
   "cell_type": "code",
   "execution_count": 21,
   "metadata": {},
   "outputs": [
    {
     "name": "stdout",
     "output_type": "stream",
     "text": [
      "(6250, 10)\n"
     ]
    }
   ],
   "source": [
    "print(data.shape)\n",
    "#data[60000, 0]"
   ]
  },
  {
   "cell_type": "markdown",
   "metadata": {},
   "source": [
    "Finally, we can ask for several elements at once:"
   ]
  },
  {
   "cell_type": "code",
   "execution_count": 22,
   "metadata": {},
   "outputs": [
    {
     "data": {
      "text/plain": [
       "array([2.799, 8.63 ])"
      ]
     },
     "execution_count": 22,
     "metadata": {},
     "output_type": "execute_result"
    }
   ],
   "source": [
    "data[0, [0, 9]]"
   ]
  },
  {
   "cell_type": "markdown",
   "metadata": {},
   "source": [
    "## Slices"
   ]
  },
  {
   "cell_type": "markdown",
   "metadata": {},
   "source": [
    "You can select ranges of elements using slices. To select first two columns from the first row, you can use:"
   ]
  },
  {
   "cell_type": "code",
   "execution_count": 23,
   "metadata": {},
   "outputs": [
    {
     "data": {
      "text/plain": [
       "array([ 2.799, -2.622])"
      ]
     },
     "execution_count": 23,
     "metadata": {},
     "output_type": "execute_result"
    }
   ],
   "source": [
    "data[0, 0:2]"
   ]
  },
  {
   "cell_type": "markdown",
   "metadata": {},
   "source": [
    "Note that the returned array does not include third column (with index 2)."
   ]
  },
  {
   "cell_type": "markdown",
   "metadata": {},
   "source": [
    "You can skip the first or last index (which means, take the values from the beginning or to the end):"
   ]
  },
  {
   "cell_type": "code",
   "execution_count": 24,
   "metadata": {},
   "outputs": [
    {
     "data": {
      "text/plain": [
       "array([ 2.799, -2.622])"
      ]
     },
     "execution_count": 24,
     "metadata": {},
     "output_type": "execute_result"
    }
   ],
   "source": [
    "data[0, :2]"
   ]
  },
  {
   "cell_type": "markdown",
   "metadata": {},
   "source": [
    "If you omit both indices in the slice leaving out only the colon (`:`), you will get all columns of this row:"
   ]
  },
  {
   "cell_type": "code",
   "execution_count": 25,
   "metadata": {},
   "outputs": [
    {
     "data": {
      "text/plain": [
       "array([  2.799,  -2.622, 100.   ,   5.347,  14.977,  -4.088,  14.369,\n",
       "        12.822,  17.566,   8.63 ])"
      ]
     },
     "execution_count": 25,
     "metadata": {},
     "output_type": "execute_result"
    }
   ],
   "source": [
    "data[0, :]"
   ]
  },
  {
   "cell_type": "markdown",
   "metadata": {},
   "source": [
    "We can do similarly for the rows (time points)"
   ]
  },
  {
   "cell_type": "code",
   "execution_count": 26,
   "metadata": {},
   "outputs": [
    {
     "data": {
      "text/plain": [
       "[<matplotlib.lines.Line2D at 0x7f001e310cf8>]"
      ]
     },
     "execution_count": 26,
     "metadata": {},
     "output_type": "execute_result"
    },
    {
     "data": {
      "image/png": "[encoded data removed]",
      "text/plain": [
       "<Figure size 432x288 with 1 Axes>"
      ]
     },
     "metadata": {
      "needs_background": "light"
     },
     "output_type": "display_data"
    }
   ],
   "source": [
    "plt.plot(data[:, 0])"
   ]
  },
  {
   "cell_type": "markdown",
   "metadata": {},
   "source": [
    "## Filtering data"
   ]
  },
  {
   "cell_type": "markdown",
   "metadata": {},
   "source": [
    "It's also possible to select elements (filter) based on a condition. For example, to select all measurments above 10 in the first patient we can use:"
   ]
  },
  {
   "cell_type": "code",
   "execution_count": 27,
   "metadata": {},
   "outputs": [
    {
     "data": {
      "text/plain": [
       "array([  2.799, 100.   ,   5.347,  14.977,  14.369,  12.822,  17.566,\n",
       "         8.63 ])"
      ]
     },
     "execution_count": 27,
     "metadata": {},
     "output_type": "execute_result"
    }
   ],
   "source": [
    "single_channel = data[0, :]\n",
    "single_channel[single_channel>0]"
   ]
  },
  {
   "cell_type": "markdown",
   "metadata": {},
   "source": [
    "We can also substitute the measurement with a new value:\n"
   ]
  },
  {
   "cell_type": "code",
   "execution_count": 28,
   "metadata": {},
   "outputs": [
    {
     "name": "stdout",
     "output_type": "stream",
     "text": [
      "[ 0.    -2.622  0.     0.     0.    -4.088  0.     0.     0.     0.   ]\n"
     ]
    }
   ],
   "source": [
    "single_channel[single_channel>0] = 0\n",
    "print(single_channel)"
   ]
  },
  {
   "cell_type": "markdown",
   "metadata": {},
   "source": [
    "<div class=\"alert alert-warning\">\n",
    "    \n",
    "**Warning** Please note that changing `patient_data` in the previous example, will also modify the original `data` array from which the row was extracted. The reason is that taking a slice does not copy a data, only gives a new view on it. \n",
    "</div>"
   ]
  },
  {
   "cell_type": "markdown",
   "metadata": {},
   "source": [
    "### Quiz \n",
    "\n",
    "Imagine the following array `a`:\n",
    "\n",
    "```\n",
    ">> print(a)\n",
    "[0, 5, 8, 10]\n",
    "```\n",
    "\n",
    "Which of the following commands will give this output:\n",
    "\n",
    "```\n",
    "[5, 8]\n",
    "```\n",
    "\n",
    "a) `print(a[1, 2])`\n",
    "\n",
    "b) `print(a[2:3])`\n",
    "\n",
    "c) `print(a[1:2])`\n",
    "\n",
    "d) `print(a[[1, 2]])`\n",
    "\n",
    "e) `print(a[a<10])`\n",
    "\n",
    "You can test your guess by creating the `a` array:\n",
    "\n",
    "```\n",
    "a = np.array([0, 5, 8, 10])\n",
    "```"
   ]
  },
  {
   "cell_type": "markdown",
   "metadata": {},
   "source": [
    "## Operations"
   ]
  },
  {
   "cell_type": "markdown",
   "metadata": {},
   "source": [
    "By default additions/subtractions/etc. are elementwise:"
   ]
  },
  {
   "cell_type": "code",
   "execution_count": 29,
   "metadata": {},
   "outputs": [
    {
     "name": "stdout",
     "output_type": "stream",
     "text": [
      "[[  0.     -5.244   0.    ...   0.      0.      0.   ]\n",
      " [  6.98    5.962  12.686 ...  63.146  69.142  33.898]\n",
      " [ 21.67   11.838  27.268 ...  62.154  68.788  48.856]\n",
      " ...\n",
      " [-12.12  109.226 -13.748 ... -27.416 -45.878 -86.808]\n",
      " [-22.74  108.054  -1.738 ... -26.504 -58.616 -80.184]\n",
      " [ -6.012  97.838  -8.626 ... -25.006 -69.016 -73.538]]\n"
     ]
    }
   ],
   "source": [
    "doubledata = data + data\n",
    "print(doubledata)"
   ]
  },
  {
   "cell_type": "markdown",
   "metadata": {},
   "source": [
    "Operations by scalar:"
   ]
  },
  {
   "cell_type": "code",
   "execution_count": 30,
   "metadata": {},
   "outputs": [
    {
     "name": "stdout",
     "output_type": "stream",
     "text": [
      "[[   0.      -7.866    0.    ...    0.       0.       0.   ]\n",
      " [  10.47     8.943   19.029 ...   94.719  103.713   50.847]\n",
      " [  32.505   17.757   40.902 ...   93.231  103.182   73.284]\n",
      " ...\n",
      " [ -18.18   163.839  -20.622 ...  -41.124  -68.817 -130.212]\n",
      " [ -34.11   162.081   -2.607 ...  -39.756  -87.924 -120.276]\n",
      " [  -9.018  146.757  -12.939 ...  -37.509 -103.524 -110.307]]\n"
     ]
    }
   ],
   "source": [
    "tripledata = data * 3\n",
    "print(tripledata)\n"
   ]
  },
  {
   "cell_type": "markdown",
   "metadata": {},
   "source": [
    "Some functions can be applied elementwise:"
   ]
  },
  {
   "cell_type": "code",
   "execution_count": 31,
   "metadata": {},
   "outputs": [
    {
     "name": "stdout",
     "output_type": "stream",
     "text": [
      "[[1.00000000e+00 7.26574026e-02 1.00000000e+00 ... 1.00000000e+00\n",
      "  1.00000000e+00 1.00000000e+00]\n",
      " [3.27859477e+01 1.97075143e+01 5.68499253e+02 ... 5.15204535e+13\n",
      "  1.03274841e+15 2.29539364e+07]\n",
      " [5.07669078e+04 3.72039488e+02 8.34009440e+05 ... 3.13739799e+13\n",
      "  8.65215738e+14 4.06392425e+10]\n",
      " ...\n",
      " [2.33440089e-03 5.22546015e+23 1.03433145e-03 ... 1.11350262e-06\n",
      "  1.09073407e-10 1.41215480e-19]\n",
      " [1.15364381e-05 2.90822480e+23 4.19370710e-01 ... 1.75682914e-06\n",
      "  1.86937885e-13 3.87494579e-18]\n",
      " [4.94892403e-02 1.75894298e+21 1.33933093e-02 ... 3.71548997e-06\n",
      "  1.03125488e-15 1.07504389e-16]]\n"
     ]
    }
   ],
   "source": [
    "expdata = np.exp(data)\n",
    "print(expdata)"
   ]
  },
  {
   "cell_type": "markdown",
   "metadata": {},
   "source": [
    "<div class=\"alert alert-warning\">\n",
    "\n",
    "**Warning** Standard Python installation also includes the `math` library, but it does not play nicely with NumPy array, so avoid using it with NumPy arrays.\n",
    "</div>"
   ]
  },
  {
   "cell_type": "markdown",
   "metadata": {},
   "source": [
    "Some functions (such as mean, max, etc.) aggregate the data return arrays of less dimensions or scalars:"
   ]
  },
  {
   "cell_type": "code",
   "execution_count": 32,
   "metadata": {},
   "outputs": [
    {
     "name": "stdout",
     "output_type": "stream",
     "text": [
      "-0.3784369919999999\n"
     ]
    }
   ],
   "source": [
    "meandata = np.mean(data)\n",
    "print(meandata)"
   ]
  },
  {
   "cell_type": "markdown",
   "metadata": {},
   "source": [
    "By default the NumPy `mean` function It's also possbile to average over a single axis:"
   ]
  },
  {
   "cell_type": "code",
   "execution_count": 33,
   "metadata": {},
   "outputs": [
    {
     "data": {
      "text/plain": [
       "array([ 0.15340096,  0.88722416,  2.06206688, -1.73837248,  1.14317136,\n",
       "       -3.53674784, -1.99989392,  0.02879392, -1.21101152,  0.42699856])"
      ]
     },
     "execution_count": 33,
     "metadata": {},
     "output_type": "execute_result"
    }
   ],
   "source": [
    "np.mean(data, 0)"
   ]
  },
  {
   "cell_type": "markdown",
   "metadata": {},
   "source": [
    "### Exercise: moving average\n",
    "\n",
    "Create a new empty array  of length 50 (use `np.zeros`) Average the LFP data over the first 0.1 s of the first channel and store the value in the new array. Then repeat it for the next ten patients and so on. Plot the resulting signal. If you finished early, repeat that for other channels and plot them on a single plot."
   ]
  },
  {
   "cell_type": "markdown",
   "metadata": {},
   "source": [
    "## SciPy"
   ]
  },
  {
   "cell_type": "markdown",
   "metadata": {},
   "source": [
    "* SciPy packages (stats, integrate, signal, fftpack)\n",
    "* calculate power spectrum"
   ]
  },
  {
   "cell_type": "code",
   "execution_count": 34,
   "metadata": {},
   "outputs": [],
   "source": [
    "from scipy import fftpack\n",
    "\n",
    "lfp_fft = fftpack.fft(data[:, 0])"
   ]
  },
  {
   "cell_type": "code",
   "execution_count": 37,
   "metadata": {},
   "outputs": [
    {
     "data": {
      "text/plain": [
       "(0, 20)"
      ]
     },
     "execution_count": 37,
     "metadata": {},
     "output_type": "execute_result"
    },
    {
     "data": {
      "image/png": "[encoded data removed]",
      "text/plain": [
       "<Figure size 432x288 with 1 Axes>"
      ]
     },
     "metadata": {
      "needs_background": "light"
     },
     "output_type": "display_data"
    }
   ],
   "source": [
    "frequency = np.arange(len(lfp_fft)) / len(lfp_fft) * sampling_frequency / 2\n",
    "plt.plot(frequency, np.abs(lfp_fft))\n",
    "plt.xlim(0, 20)"
   ]
  },
  {
   "cell_type": "markdown",
   "metadata": {},
   "source": [
    "**Exercise** Calculate the spectrum for every channel and average the spectra."
   ]
  },
  {
   "cell_type": "code",
   "execution_count": 4,
   "metadata": {},
   "outputs": [],
   "source": [
    "from matplotlib import pylab"
   ]
  },
  {
   "cell_type": "code",
   "execution_count": 5,
   "metadata": {},
   "outputs": [],
   "source": [
    "pylab.psd?"
   ]
  },
  {
   "cell_type": "code",
   "execution_count": null,
   "metadata": {},
   "outputs": [],
   "source": []
  }
 ],
 "metadata": {
  "kernelspec": {
   "display_name": "Python 3",
   "language": "python",
   "name": "python3"
  },
  "language_info": {
   "codemirror_mode": {
    "name": "ipython",
    "version": 3
   },
   "file_extension": ".py",
   "mimetype": "text/x-python",
   "name": "python",
   "nbconvert_exporter": "python",
   "pygments_lexer": "ipython3",
   "version": "3.7.2"
  }
 },
 "nbformat": 4,
 "nbformat_minor": 2
}
