{
 "cells": [
  {
   "cell_type": "markdown",
   "metadata": {
    "toc-hr-collapsed": true,
    "toc-nb-collapsed": true
   },
   "source": [
    "# Python tutorial"
   ]
  },
  {
   "cell_type": "markdown",
   "metadata": {},
   "source": [
    "EITN Spring School, March 4th, 2019\n",
    "\n",
    "Bartosz Teleńczuk and OSS comunity\n",
    "\n",
    "*e-mail*: bartosz@telenczuk.pl <br/>\n",
    "*website*: http://datascience.telenczuk.pl"
   ]
  },
  {
   "cell_type": "markdown",
   "metadata": {},
   "source": [
    "## Requirements\n",
    "\n",
    "* Python 3.x\n",
    "* Jupyter Notebook\n",
    "* NumPy >= 1.10\n",
    "* matplotlib\n",
    "\n",
    "If you use [anaconda](https://www.continuum.io/downloads) these libaries should be already installed in your system"
   ]
  },
  {
   "cell_type": "markdown",
   "metadata": {},
   "source": [
    "## Other materials\n",
    "\n",
    "* Gaël Varoquaux, Emmanuelle Gouillart and Olav Vahtras (editors), [SciPy Lectures](http://scipy-lectures.org)\n",
    "* Software Carpentry community, [Programming with Python](http://swcarpentry.github.io/python-novice-inflammation/)\n",
    "* NumPy community, [NumPy Docs](http://docs.scipy.org/doc/numpy/)\n",
    "* Nicolas Rougier, [100 NumPy exercises](https://github.com/rougier/numpy-100)\n",
    "* Nicolas Rougier, [From Python to Numpy](http://www.labri.fr/perso/nrougier/from-python-to-numpy/index.html)\n",
    "* Bartosz Teleńczuk, [Advanced NumPy lesson](https://github.com/paris-swc/advanced-numpy-lesson)\n"
   ]
  },
  {
   "cell_type": "markdown",
   "metadata": {},
   "source": [
    "# Basics"
   ]
  },
  {
   "cell_type": "code",
   "execution_count": 1,
   "metadata": {},
   "outputs": [
    {
     "name": "stdout",
     "output_type": "stream",
     "text": [
      "Hello, EITN!\n"
     ]
    }
   ],
   "source": [
    "print(\"Hello, EITN!\")"
   ]
  },
  {
   "cell_type": "code",
   "execution_count": 2,
   "metadata": {},
   "outputs": [
    {
     "name": "stdout",
     "output_type": "stream",
     "text": [
      "4\n"
     ]
    }
   ],
   "source": [
    "a = 2 + 2\n",
    "print(a)"
   ]
  },
  {
   "cell_type": "markdown",
   "metadata": {},
   "source": [
    "## Data types"
   ]
  },
  {
   "cell_type": "code",
   "execution_count": 3,
   "metadata": {},
   "outputs": [
    {
     "name": "stdout",
     "output_type": "stream",
     "text": [
      "2\n"
     ]
    }
   ],
   "source": [
    "# Tuples\n",
    "\n",
    "a_tuple = (2, 5)\n",
    "left, right = a_tuple\n",
    "print(left)"
   ]
  },
  {
   "cell_type": "code",
   "execution_count": 4,
   "metadata": {},
   "outputs": [
    {
     "name": "stdout",
     "output_type": "stream",
     "text": [
      "[3, 5]\n"
     ]
    }
   ],
   "source": [
    "## Lists\n",
    "\n",
    "a_list = [2, 5]\n",
    "a_list[0] = 3\n",
    "print(a_list)"
   ]
  },
  {
   "cell_type": "code",
   "execution_count": 5,
   "metadata": {},
   "outputs": [
    {
     "name": "stdout",
     "output_type": "stream",
     "text": [
      "[3, 5, 6]\n"
     ]
    }
   ],
   "source": [
    "a_list.append(6)\n",
    "print(a_list)"
   ]
  },
  {
   "cell_type": "markdown",
   "metadata": {},
   "source": [
    "## Structures"
   ]
  },
  {
   "cell_type": "code",
   "execution_count": 6,
   "metadata": {},
   "outputs": [
    {
     "name": "stdout",
     "output_type": "stream",
     "text": [
      "Iteration 0\n",
      "Iteration 1\n",
      "Iteration 2\n"
     ]
    }
   ],
   "source": [
    "## For loops\n",
    "\n",
    "for i in range(3):\n",
    "    print(\"Iteration\", i)"
   ]
  },
  {
   "cell_type": "markdown",
   "metadata": {},
   "source": [
    "Note that the syntax of **for loops** differs in Python from many other languages:\n",
    "\n",
    "* we use the keyword `range` for defining the initial value of the iteration index, its final value, and the increment\n",
    "* no begin/end clauses -- for loop body is delimited by the indentation (4 spaces)"
   ]
  },
  {
   "cell_type": "code",
   "execution_count": 7,
   "metadata": {},
   "outputs": [],
   "source": [
    "## functions\n",
    "\n",
    "def increment_by_one(x):\n",
    "    return x + 1"
   ]
  },
  {
   "cell_type": "code",
   "execution_count": 8,
   "metadata": {},
   "outputs": [
    {
     "data": {
      "text/plain": [
       "6"
      ]
     },
     "execution_count": 8,
     "metadata": {},
     "output_type": "execute_result"
    }
   ],
   "source": [
    "increment_by_one(5)"
   ]
  },
  {
   "cell_type": "markdown",
   "metadata": {},
   "source": [
    "### Exercise\n",
    "\n",
    "Calculate the sum of the series $\\sum_{i=1}^N i^2$, where $N=5$. Then implement the computation as a function `sum_series(N)`. "
   ]
  },
  {
   "cell_type": "markdown",
   "metadata": {},
   "source": [
    "#### Solution"
   ]
  },
  {
   "cell_type": "code",
   "execution_count": 9,
   "metadata": {},
   "outputs": [],
   "source": [
    "def sum_series(N):\n",
    "    summed = 0\n",
    "    for i in range(1, N+1):\n",
    "        summed += i * i # i ** 2 \n",
    "    return summed\n",
    "\n",
    "result = sum_series(6)"
   ]
  },
  {
   "cell_type": "markdown",
   "metadata": {},
   "source": [
    "# Array computation with NumPy"
   ]
  },
  {
   "cell_type": "markdown",
   "metadata": {},
   "source": [
    "## What is numpy ?"
   ]
  },
  {
   "cell_type": "markdown",
   "metadata": {},
   "source": [
    "* memory-efficient container for multi-dimensional homogeneous (mainly numerical) data (NumPy array)\n",
    "\n",
    "* fast vectorised operations on arrays\n",
    "\n",
    "* library general purpose functions: data reading/writing, linear algebra, FFT etc. (more scientific functions are implemented in SciPy lecture)\n",
    "\n",
    "* main applications: signal processing, image processing, analysis of raw data from measurment instruments\n",
    "\n",
    "* coherent interface across the entire Python data ecosystem"
   ]
  },
  {
   "cell_type": "markdown",
   "metadata": {},
   "source": [
    "## Creating arrays"
   ]
  },
  {
   "cell_type": "code",
   "execution_count": 10,
   "metadata": {},
   "outputs": [],
   "source": [
    "import numpy as np"
   ]
  },
  {
   "cell_type": "code",
   "execution_count": 11,
   "metadata": {},
   "outputs": [
    {
     "name": "stdout",
     "output_type": "stream",
     "text": [
      "[1 2 3 4]\n"
     ]
    }
   ],
   "source": [
    "new_array = np.array([1, 2, 3, 4])\n",
    "print(new_array)"
   ]
  },
  {
   "cell_type": "markdown",
   "metadata": {},
   "source": [
    "You can also create arrays of specific dimensions initialised with zeros or ones:\n"
   ]
  },
  {
   "cell_type": "code",
   "execution_count": 12,
   "metadata": {},
   "outputs": [
    {
     "data": {
      "text/plain": [
       "array([0., 0., 0., 0., 0.])"
      ]
     },
     "execution_count": 12,
     "metadata": {},
     "output_type": "execute_result"
    }
   ],
   "source": [
    "np.zeros(5)"
   ]
  },
  {
   "cell_type": "code",
   "execution_count": 13,
   "metadata": {},
   "outputs": [
    {
     "data": {
      "text/plain": [
       "array([1., 1., 1., 1., 1.])"
      ]
     },
     "execution_count": 13,
     "metadata": {},
     "output_type": "execute_result"
    }
   ],
   "source": [
    "np.ones(5)"
   ]
  },
  {
   "cell_type": "markdown",
   "metadata": {
    "toc-hr-collapsed": true,
    "toc-nb-collapsed": true
   },
   "source": [
    "### Exercise (array creation)\n",
    "\n",
    "Create the following array and store in a new variable called `a`:\n",
    "\n",
    "```\n",
    "[0, 5, 8, 10]\n",
    "```"
   ]
  },
  {
   "cell_type": "markdown",
   "metadata": {},
   "source": [
    "## Loading data\n",
    "\n",
    "We are studying **local field potentials** (LFP) recorded in humans. The short data segment that we are going to analyse here consists of 5 seconds of LFP recorded from 5 different channels (electrodes).\n",
    "\n",
    "First, we will download the data from the internet. Of course, we can use Python standard library to do that:"
   ]
  },
  {
   "cell_type": "code",
   "execution_count": 14,
   "metadata": {},
   "outputs": [
    {
     "data": {
      "text/plain": [
       "('lfp_data.csv', <http.client.HTTPMessage at 0x7f58800dd9e8>)"
      ]
     },
     "execution_count": 14,
     "metadata": {},
     "output_type": "execute_result"
    }
   ],
   "source": [
    "from urllib.request import urlretrieve\n",
    "urlretrieve('http://tinyurl.com/eitn-school-2019', 'lfp_data.csv')"
   ]
  },
  {
   "cell_type": "markdown",
   "metadata": {},
   "source": [
    "The data sets are stored in comma-separated values (CSV) format: each row holds information for a time point, and the columns represent channels. The first few rows of our first file look like this:"
   ]
  },
  {
   "cell_type": "code",
   "execution_count": 15,
   "metadata": {},
   "outputs": [
    {
     "name": "stdout",
     "output_type": "stream",
     "text": [
      "2.799,-2.622,3.282,5.347,14.977,-4.088,14.369,12.822,17.566,8.630\n",
      "3.490,2.981,6.343,16.577,22.077,-7.614,33.572,31.573,34.571,16.949\n",
      "10.835,5.919,13.634,24.452,25.687,-9.133,22.580,31.077,34.394,24.428\n",
      "10.280,8.999,17.101,19.872,17.126,0.535,24.727,30.549,30.826,14.465\n",
      "4.521,11.578,11.792,14.644,9.768,1.607,22.464,23.721,19.347,9.844\n",
      "-4.515,3.062,11.140,7.918,8.177,-2.098,20.750,25.216,16.156,22.911\n",
      "-12.754,5.800,3.569,2.479,-3.858,8.087,16.445,17.902,18.074,19.659\n",
      "-25.156,3.728,-0.911,3.077,-2.544,-1.875,18.459,24.377,15.030,8.702\n",
      "-34.032,3.549,2.209,7.571,-8.446,-3.040,13.981,31.504,19.831,4.144\n",
      "-34.826,7.614,0.814,11.856,-4.948,-3.165,11.061,33.469,22.381,10.277\n"
     ]
    }
   ],
   "source": [
    "# below command works only for UNIX-based systems\n",
    "!head lfp_data.csv\n"
   ]
  },
  {
   "cell_type": "markdown",
   "metadata": {},
   "source": [
    "<div class=\"alert alert-warning\">\n",
    "    \n",
    "**Note** If you don't have the file. You can create an artificial dataset using the following command. It won't be as interesting as the real LFP, but it will allow you to finish the exercies.\n",
    "\n",
    "```python\n",
    "data = np.random.rand(6250, 10)\n",
    "t = np.arange(6250)\n",
    "phases = np.random.rand(10) * np.pi * 2\n",
    "data = data * 0.1 * np.sin(t[:, None] / 1250 * 5 * 2 * np.pi + phases[None, :])\n",
    "```\n",
    "\n",
    "</div>\n"
   ]
  },
  {
   "cell_type": "markdown",
   "metadata": {},
   "source": [
    "After you have downloaded the file, you can load it using `numpy`:"
   ]
  },
  {
   "cell_type": "code",
   "execution_count": 16,
   "metadata": {},
   "outputs": [],
   "source": [
    "data = np.loadtxt(fname='lfp_data.csv', delimiter=',')"
   ]
  },
  {
   "cell_type": "code",
   "execution_count": 17,
   "metadata": {},
   "outputs": [
    {
     "name": "stdout",
     "output_type": "stream",
     "text": [
      "[[  2.799  -2.622   3.282 ...  12.822  17.566   8.63 ]\n",
      " [  3.49    2.981   6.343 ...  31.573  34.571  16.949]\n",
      " [ 10.835   5.919  13.634 ...  31.077  34.394  24.428]\n",
      " ...\n",
      " [ -6.06   54.613  -6.874 ... -13.708 -22.939 -43.404]\n",
      " [-11.37   54.027  -0.869 ... -13.252 -29.308 -40.092]\n",
      " [ -3.006  48.919  -4.313 ... -12.503 -34.508 -36.769]]\n"
     ]
    }
   ],
   "source": [
    "print(data)"
   ]
  },
  {
   "cell_type": "code",
   "execution_count": 18,
   "metadata": {},
   "outputs": [
    {
     "name": "stdout",
     "output_type": "stream",
     "text": [
      "float64\n",
      "(6250, 10)\n"
     ]
    }
   ],
   "source": [
    "print(data.dtype)\n",
    "print(data.shape)"
   ]
  },
  {
   "cell_type": "code",
   "execution_count": 19,
   "metadata": {},
   "outputs": [
    {
     "name": "stdout",
     "output_type": "stream",
     "text": [
      "5.0 s\n"
     ]
    }
   ],
   "source": [
    "number_of_points, number_of_channels = data.shape\n",
    "sampling_frequency = 1250\n",
    "total_time = number_of_points / sampling_frequency\n",
    "print(total_time, 's')"
   ]
  },
  {
   "cell_type": "markdown",
   "metadata": {
    "toc-hr-collapsed": true,
    "toc-nb-collapsed": true
   },
   "source": [
    "## Plotting"
   ]
  },
  {
   "cell_type": "markdown",
   "metadata": {},
   "source": [
    "We can plot the data using `matplotlib` library:"
   ]
  },
  {
   "cell_type": "code",
   "execution_count": 20,
   "metadata": {},
   "outputs": [
    {
     "data": {
      "text/plain": [
       "<Figure size 640x480 with 1 Axes>"
      ]
     },
     "metadata": {},
     "output_type": "display_data"
    }
   ],
   "source": [
    "import matplotlib.pyplot as plt\n",
    "plt.plot(data)\n",
    "plt.show()"
   ]
  },
  {
   "cell_type": "markdown",
   "metadata": {},
   "source": [
    "**Note** If the above figure appears only after you call `plt.show()` function, in the notebook you can change this behaviour using this command:"
   ]
  },
  {
   "cell_type": "code",
   "execution_count": 21,
   "metadata": {},
   "outputs": [
    {
     "data": {
      "text/plain": [
       "[<matplotlib.lines.Line2D at 0x7f586bf7b3c8>,\n",
       " <matplotlib.lines.Line2D at 0x7f586bf7b518>,\n",
       " <matplotlib.lines.Line2D at 0x7f586bf7b668>,\n",
       " <matplotlib.lines.Line2D at 0x7f586bf7b7b8>,\n",
       " <matplotlib.lines.Line2D at 0x7f586bf7b908>,\n",
       " <matplotlib.lines.Line2D at 0x7f586bf7ba58>,\n",
       " <matplotlib.lines.Line2D at 0x7f586bf7bba8>,\n",
       " <matplotlib.lines.Line2D at 0x7f586bf7bcf8>,\n",
       " <matplotlib.lines.Line2D at 0x7f586bf7be48>,\n",
       " <matplotlib.lines.Line2D at 0x7f586bf7bf98>]"
      ]
     },
     "execution_count": 21,
     "metadata": {},
     "output_type": "execute_result"
    },
    {
     "data": {
      "image/png": "[encoded data removed]",
      "text/plain": [
       "<Figure size 432x288 with 1 Axes>"
      ]
     },
     "metadata": {
      "needs_background": "light"
     },
     "output_type": "display_data"
    }
   ],
   "source": [
    "%matplotlib inline\n",
    "plt.plot(data)"
   ]
  },
  {
   "cell_type": "markdown",
   "metadata": {},
   "source": [
    "## Indexing"
   ]
  },
  {
   "cell_type": "markdown",
   "metadata": {},
   "source": [
    "Like lists and tuples the NumPy arrays are zero-indexed:"
   ]
  },
  {
   "cell_type": "code",
   "execution_count": 22,
   "metadata": {},
   "outputs": [
    {
     "data": {
      "text/plain": [
       "2.799"
      ]
     },
     "execution_count": 22,
     "metadata": {},
     "output_type": "execute_result"
    }
   ],
   "source": [
    "data[0, 0]"
   ]
  },
  {
   "cell_type": "markdown",
   "metadata": {},
   "source": [
    "It means that that the third element in the first row has an index of [0, 2]:"
   ]
  },
  {
   "cell_type": "code",
   "execution_count": 23,
   "metadata": {},
   "outputs": [
    {
     "data": {
      "text/plain": [
       "3.282"
      ]
     },
     "execution_count": 23,
     "metadata": {},
     "output_type": "execute_result"
    }
   ],
   "source": [
    "data[0, 2]"
   ]
  },
  {
   "cell_type": "markdown",
   "metadata": {},
   "source": [
    "We can also assign the element with a new value:"
   ]
  },
  {
   "cell_type": "code",
   "execution_count": 24,
   "metadata": {},
   "outputs": [
    {
     "name": "stdout",
     "output_type": "stream",
     "text": [
      "100.0\n"
     ]
    }
   ],
   "source": [
    "data[0, 2] = 100.\n",
    "print(data[0, 2])"
   ]
  },
  {
   "cell_type": "markdown",
   "metadata": {},
   "source": [
    "NumPy (and Python in general) checks the bounds of the array:"
   ]
  },
  {
   "cell_type": "code",
   "execution_count": 25,
   "metadata": {},
   "outputs": [
    {
     "name": "stdout",
     "output_type": "stream",
     "text": [
      "(6250, 10)\n"
     ]
    }
   ],
   "source": [
    "print(data.shape)\n",
    "#data[60000, 0]"
   ]
  },
  {
   "cell_type": "markdown",
   "metadata": {},
   "source": [
    "Finally, we can ask for several elements at once:"
   ]
  },
  {
   "cell_type": "code",
   "execution_count": 26,
   "metadata": {},
   "outputs": [
    {
     "data": {
      "text/plain": [
       "array([2.799, 8.63 ])"
      ]
     },
     "execution_count": 26,
     "metadata": {},
     "output_type": "execute_result"
    }
   ],
   "source": [
    "data[0, [0, 9]]"
   ]
  },
  {
   "cell_type": "markdown",
   "metadata": {},
   "source": [
    "### Slices"
   ]
  },
  {
   "cell_type": "markdown",
   "metadata": {},
   "source": [
    "You can select ranges of elements using slices. To select first two columns from the first row, you can use:"
   ]
  },
  {
   "cell_type": "code",
   "execution_count": 27,
   "metadata": {},
   "outputs": [
    {
     "data": {
      "text/plain": [
       "array([ 2.799, -2.622])"
      ]
     },
     "execution_count": 27,
     "metadata": {},
     "output_type": "execute_result"
    }
   ],
   "source": [
    "data[0, 0:2]"
   ]
  },
  {
   "cell_type": "markdown",
   "metadata": {},
   "source": [
    "Note that the returned array does not include third column (with index 2)."
   ]
  },
  {
   "cell_type": "markdown",
   "metadata": {},
   "source": [
    "You can skip the first or last index (which means, take the values from the beginning or to the end):"
   ]
  },
  {
   "cell_type": "code",
   "execution_count": 28,
   "metadata": {},
   "outputs": [
    {
     "data": {
      "text/plain": [
       "array([ 2.799, -2.622])"
      ]
     },
     "execution_count": 28,
     "metadata": {},
     "output_type": "execute_result"
    }
   ],
   "source": [
    "data[0, :2]"
   ]
  },
  {
   "cell_type": "markdown",
   "metadata": {},
   "source": [
    "If you omit both indices in the slice leaving out only the colon (`:`), you will get all columns of this row:"
   ]
  },
  {
   "cell_type": "code",
   "execution_count": 29,
   "metadata": {},
   "outputs": [
    {
     "data": {
      "text/plain": [
       "array([  2.799,  -2.622, 100.   ,   5.347,  14.977,  -4.088,  14.369,\n",
       "        12.822,  17.566,   8.63 ])"
      ]
     },
     "execution_count": 29,
     "metadata": {},
     "output_type": "execute_result"
    }
   ],
   "source": [
    "data[0, :]"
   ]
  },
  {
   "cell_type": "markdown",
   "metadata": {},
   "source": [
    "We can do similarly for the rows (time points)"
   ]
  },
  {
   "cell_type": "code",
   "execution_count": 30,
   "metadata": {},
   "outputs": [
    {
     "data": {
      "text/plain": [
       "[<matplotlib.lines.Line2D at 0x7f58686ada58>]"
      ]
     },
     "execution_count": 30,
     "metadata": {},
     "output_type": "execute_result"
    },
    {
     "data": {
      "image/png": "[encoded data removed]",
      "text/plain": [
       "<Figure size 432x288 with 1 Axes>"
      ]
     },
     "metadata": {
      "needs_background": "light"
     },
     "output_type": "display_data"
    }
   ],
   "source": [
    "plt.plot(data[:, 0])"
   ]
  },
  {
   "cell_type": "code",
   "execution_count": 31,
   "metadata": {},
   "outputs": [
    {
     "name": "stdout",
     "output_type": "stream",
     "text": [
      "(1, 6250, 10)\n"
     ]
    }
   ],
   "source": [
    "# Adding extra dimension\n",
    "\n",
    "new_data = data[np.newaxis, :, :]\n",
    "print(new_data.shape)\n"
   ]
  },
  {
   "cell_type": "markdown",
   "metadata": {},
   "source": [
    "### Filtering data"
   ]
  },
  {
   "cell_type": "markdown",
   "metadata": {},
   "source": [
    "It's also possible to select elements (filter) based on a condition. For example, to select all measurments above 10 in the first patient we can use:"
   ]
  },
  {
   "cell_type": "code",
   "execution_count": 32,
   "metadata": {},
   "outputs": [
    {
     "data": {
      "text/plain": [
       "array([  2.799, 100.   ,   5.347,  14.977,  14.369,  12.822,  17.566,\n",
       "         8.63 ])"
      ]
     },
     "execution_count": 32,
     "metadata": {},
     "output_type": "execute_result"
    }
   ],
   "source": [
    "single_channel = data[0, :]\n",
    "single_channel[single_channel>0]"
   ]
  },
  {
   "cell_type": "markdown",
   "metadata": {},
   "source": [
    "We can also substitute the measurement with a new value:\n"
   ]
  },
  {
   "cell_type": "code",
   "execution_count": 33,
   "metadata": {},
   "outputs": [
    {
     "name": "stdout",
     "output_type": "stream",
     "text": [
      "[ 0.    -2.622  0.     0.     0.    -4.088  0.     0.     0.     0.   ]\n"
     ]
    }
   ],
   "source": [
    "single_channel[single_channel>0] = 0\n",
    "print(single_channel)"
   ]
  },
  {
   "cell_type": "markdown",
   "metadata": {},
   "source": [
    "<div class=\"alert alert-warning\">\n",
    "    \n",
    "**Warning** Please note that changing `patient_data` in the previous example, will also modify the original `data` array from which the row was extracted. The reason is that taking a slice does not copy a data, only gives a new view on it. \n",
    "</div>"
   ]
  },
  {
   "cell_type": "markdown",
   "metadata": {},
   "source": [
    "### Quiz  (indexing)\n",
    "\n",
    "Imagine the following array `a`:\n",
    "\n",
    "```\n",
    ">> print(a)\n",
    "[0, 5, 8, 10]\n",
    "```\n",
    "\n",
    "Which of the following commands will give this output:\n",
    "\n",
    "```\n",
    "[5, 8]\n",
    "```\n",
    "\n",
    "a) `print(a[1, 2])`\n",
    "\n",
    "b) `print(a[2:3])`\n",
    "\n",
    "c) `print(a[1:2])`\n",
    "\n",
    "d) `print(a[[1, 2]])`\n",
    "\n",
    "e) `print(a[a<10])`\n",
    "\n",
    "You can test your guess by creating the `a` array:\n",
    "\n",
    "```\n",
    "a = np.array([0, 5, 8, 10])\n",
    "```"
   ]
  },
  {
   "cell_type": "markdown",
   "metadata": {},
   "source": [
    "## Operations"
   ]
  },
  {
   "cell_type": "markdown",
   "metadata": {},
   "source": [
    "By default additions/subtractions/etc. are elementwise:"
   ]
  },
  {
   "cell_type": "code",
   "execution_count": 34,
   "metadata": {},
   "outputs": [
    {
     "name": "stdout",
     "output_type": "stream",
     "text": [
      "[[  0.     -5.244   0.    ...   0.      0.      0.   ]\n",
      " [  6.98    5.962  12.686 ...  63.146  69.142  33.898]\n",
      " [ 21.67   11.838  27.268 ...  62.154  68.788  48.856]\n",
      " ...\n",
      " [-12.12  109.226 -13.748 ... -27.416 -45.878 -86.808]\n",
      " [-22.74  108.054  -1.738 ... -26.504 -58.616 -80.184]\n",
      " [ -6.012  97.838  -8.626 ... -25.006 -69.016 -73.538]]\n"
     ]
    }
   ],
   "source": [
    "doubledata = data + data\n",
    "print(doubledata)"
   ]
  },
  {
   "cell_type": "markdown",
   "metadata": {},
   "source": [
    "Operations by scalar:"
   ]
  },
  {
   "cell_type": "code",
   "execution_count": 35,
   "metadata": {},
   "outputs": [
    {
     "name": "stdout",
     "output_type": "stream",
     "text": [
      "[[   0.      -7.866    0.    ...    0.       0.       0.   ]\n",
      " [  10.47     8.943   19.029 ...   94.719  103.713   50.847]\n",
      " [  32.505   17.757   40.902 ...   93.231  103.182   73.284]\n",
      " ...\n",
      " [ -18.18   163.839  -20.622 ...  -41.124  -68.817 -130.212]\n",
      " [ -34.11   162.081   -2.607 ...  -39.756  -87.924 -120.276]\n",
      " [  -9.018  146.757  -12.939 ...  -37.509 -103.524 -110.307]]\n"
     ]
    }
   ],
   "source": [
    "tripledata = data * 3\n",
    "print(tripledata)\n"
   ]
  },
  {
   "cell_type": "markdown",
   "metadata": {},
   "source": [
    "Some functions can be applied elementwise:"
   ]
  },
  {
   "cell_type": "code",
   "execution_count": 36,
   "metadata": {},
   "outputs": [
    {
     "name": "stdout",
     "output_type": "stream",
     "text": [
      "[[1.00000000e+00 7.26574026e-02 1.00000000e+00 ... 1.00000000e+00\n",
      "  1.00000000e+00 1.00000000e+00]\n",
      " [3.27859477e+01 1.97075143e+01 5.68499253e+02 ... 5.15204535e+13\n",
      "  1.03274841e+15 2.29539364e+07]\n",
      " [5.07669078e+04 3.72039488e+02 8.34009440e+05 ... 3.13739799e+13\n",
      "  8.65215738e+14 4.06392425e+10]\n",
      " ...\n",
      " [2.33440089e-03 5.22546015e+23 1.03433145e-03 ... 1.11350262e-06\n",
      "  1.09073407e-10 1.41215480e-19]\n",
      " [1.15364381e-05 2.90822480e+23 4.19370710e-01 ... 1.75682914e-06\n",
      "  1.86937885e-13 3.87494579e-18]\n",
      " [4.94892403e-02 1.75894298e+21 1.33933093e-02 ... 3.71548997e-06\n",
      "  1.03125488e-15 1.07504389e-16]]\n"
     ]
    }
   ],
   "source": [
    "expdata = np.exp(data)\n",
    "print(expdata)"
   ]
  },
  {
   "cell_type": "markdown",
   "metadata": {},
   "source": [
    "<div class=\"alert alert-warning\">\n",
    "\n",
    "**Warning** Standard Python installation also includes the `math` library, but it does not play nicely with NumPy array, so avoid using it with NumPy arrays.\n",
    "</div>"
   ]
  },
  {
   "cell_type": "markdown",
   "metadata": {},
   "source": [
    "Some functions (such as mean, max, etc.) aggregate the data return arrays of less dimensions or scalars:"
   ]
  },
  {
   "cell_type": "code",
   "execution_count": 37,
   "metadata": {},
   "outputs": [
    {
     "name": "stdout",
     "output_type": "stream",
     "text": [
      "-0.3784369919999999\n"
     ]
    }
   ],
   "source": [
    "meandata = np.mean(data)\n",
    "print(meandata)"
   ]
  },
  {
   "cell_type": "markdown",
   "metadata": {},
   "source": [
    "By default the NumPy `mean` function It's also possbile to average over a single axis:"
   ]
  },
  {
   "cell_type": "code",
   "execution_count": 38,
   "metadata": {},
   "outputs": [
    {
     "data": {
      "text/plain": [
       "array([ 0.15340096,  0.88722416,  2.06206688, -1.73837248,  1.14317136,\n",
       "       -3.53674784, -1.99989392,  0.02879392, -1.21101152,  0.42699856])"
      ]
     },
     "execution_count": 38,
     "metadata": {},
     "output_type": "execute_result"
    }
   ],
   "source": [
    "np.mean(data, 0)"
   ]
  },
  {
   "cell_type": "markdown",
   "metadata": {},
   "source": [
    "## Broadcasting"
   ]
  },
  {
   "cell_type": "code",
   "execution_count": 39,
   "metadata": {},
   "outputs": [
    {
     "data": {
      "text/plain": [
       "array([[1, 2, 3],\n",
       "       [4, 5, 6]])"
      ]
     },
     "execution_count": 39,
     "metadata": {},
     "output_type": "execute_result"
    }
   ],
   "source": [
    "X = np.array([[1, 2, 3], [4, 5, 6]])\n",
    "X"
   ]
  },
  {
   "cell_type": "code",
   "execution_count": 40,
   "metadata": {},
   "outputs": [
    {
     "data": {
      "text/plain": [
       "array([[0, 1, 2],\n",
       "       [3, 4, 5]])"
      ]
     },
     "execution_count": 40,
     "metadata": {},
     "output_type": "execute_result"
    }
   ],
   "source": [
    "X - 1"
   ]
  },
  {
   "cell_type": "code",
   "execution_count": 41,
   "metadata": {},
   "outputs": [
    {
     "name": "stdout",
     "output_type": "stream",
     "text": [
      "[[1 2 3]]\n",
      "(1, 3)\n",
      "(2, 3)\n"
     ]
    },
    {
     "data": {
      "text/plain": [
       "array([[0, 0, 0],\n",
       "       [3, 3, 3]])"
      ]
     },
     "execution_count": 41,
     "metadata": {},
     "output_type": "execute_result"
    }
   ],
   "source": [
    "Y = np.array([[1, 2, 3]])\n",
    "print(Y)\n",
    "print(Y.shape)\n",
    "print(X.shape)\n",
    "X - Y"
   ]
  },
  {
   "cell_type": "code",
   "execution_count": 42,
   "metadata": {},
   "outputs": [
    {
     "name": "stdout",
     "output_type": "stream",
     "text": [
      "lfp_data.csv   lfp.txt\t\t\t\t    theory.broadcast_2.gif\n",
      "lfp_data.txt   python-introduction-delivered.ipynb  Untitled.ipynb\n",
      "lfp_to_txt.py  python-introduction.ipynb\n"
     ]
    }
   ],
   "source": [
    "!ls"
   ]
  },
  {
   "cell_type": "markdown",
   "metadata": {},
   "source": [
    "![](theory.broadcast_2.gif)"
   ]
  },
  {
   "cell_type": "code",
   "execution_count": 43,
   "metadata": {},
   "outputs": [
    {
     "data": {
      "text/plain": [
       "array([[0, 1, 2],\n",
       "       [2, 3, 4]])"
      ]
     },
     "execution_count": 43,
     "metadata": {},
     "output_type": "execute_result"
    }
   ],
   "source": [
    "Y = np.array([[1, 2]])\n",
    "X - Y.T"
   ]
  },
  {
   "cell_type": "markdown",
   "metadata": {},
   "source": [
    "**Rules of broadcasting** \n",
    "\n",
    "Two numpy arrays can broadcast when their dimensions are compatible. A dimension of the two arrays is compatible when:\n",
    "\n",
    "* they are equal, or\n",
    "* one of them is 1\n"
   ]
  },
  {
   "cell_type": "markdown",
   "metadata": {},
   "source": [
    "### Quiz (broadcasting)\n",
    "\n",
    "Given the shapes of arrays X, Y (`X.shape`, `Y.shape`) guess if the arrays can be added (`X + Y`):\n",
    "\n",
    "1) `(1, 3)` and `(2, 3)`\n",
    "\n",
    "2) `(3, 1)` and `(2, 1)`\n",
    "\n",
    "3) `(4, 3)` and `(3, 1)`\n",
    "\n",
    "4) `(1, 3)` and `(3, 1)`\n",
    "\n",
    "5) `(5, 6, 8, 7)` and `(1, 6, 1, 8)`"
   ]
  },
  {
   "cell_type": "markdown",
   "metadata": {},
   "source": [
    "### Exercise (broadcasting)\n",
    "\n",
    "From each column subtract the mean of its rows in the `data`.\n",
    "\n",
    "```data = np.array([[7, 1, 2], [8, 6, 1]])```"
   ]
  },
  {
   "cell_type": "markdown",
   "metadata": {},
   "source": [
    "#### Solution"
   ]
  },
  {
   "cell_type": "code",
   "execution_count": 44,
   "metadata": {},
   "outputs": [
    {
     "data": {
      "text/plain": [
       "array([[-0.5, -2.5,  0.5],\n",
       "       [ 0.5,  2.5, -0.5]])"
      ]
     },
     "execution_count": 44,
     "metadata": {},
     "output_type": "execute_result"
    }
   ],
   "source": [
    "data = np.array([[7, 1, 2], [8, 6, 1]])\n",
    "data - np.mean(data, 0)[np.newaxis, :]"
   ]
  },
  {
   "cell_type": "markdown",
   "metadata": {},
   "source": [
    "## Vectorization"
   ]
  },
  {
   "cell_type": "markdown",
   "metadata": {},
   "source": [
    "Compute the sum euclidean distance ($\\sum_i (x_i - y_i)^2$) between each pair of points in a 2D array X, where X[0, :] are the coordinates of first point etc. Consider the example:\n",
    "\n",
    "```\n",
    "X = np.array([[1., 2.], [2., 1.], [1., 2.]])\n",
    "```\n",
    "\n",
    "Try to make your solution generic for all shapes of X (number of points and coordinates)."
   ]
  },
  {
   "cell_type": "code",
   "execution_count": 45,
   "metadata": {},
   "outputs": [
    {
     "data": {
      "text/plain": [
       "array([[0., 2., 0.],\n",
       "       [2., 0., 2.],\n",
       "       [0., 2., 0.]])"
      ]
     },
     "execution_count": 45,
     "metadata": {},
     "output_type": "execute_result"
    }
   ],
   "source": [
    "# naive python solution\n",
    "\n",
    "X = np.array([[1., 2.], [2., 1.], [1., 2.]])\n",
    "n_points = X.shape[0]\n",
    "\n",
    "distances = np.zeros((n_points, n_points))\n",
    "\n",
    "for i in range(n_points):\n",
    "    for j in range(n_points):\n",
    "        distances[i, j] = ((X[i, 0] - X[j, 0]) ** 2 + (X[i, 1] - X[j, 1]) ** 2)\n",
    "        \n",
    "distances"
   ]
  },
  {
   "cell_type": "code",
   "execution_count": 56,
   "metadata": {},
   "outputs": [
    {
     "data": {
      "text/plain": [
       "array([[0., 2., 0.],\n",
       "       [2., 0., 2.],\n",
       "       [0., 2., 0.]])"
      ]
     },
     "execution_count": 56,
     "metadata": {},
     "output_type": "execute_result"
    }
   ],
   "source": [
    "# vectorized solution\n",
    "\n",
    "distances = np.sum((X[np.newaxis, :, :] - X[:, np.newaxis, :])**2, axis=2)\n",
    "distances"
   ]
  },
  {
   "cell_type": "markdown",
   "metadata": {},
   "source": [
    "### Exercise: moving average\n",
    "\n",
    "Create a new empty array  of length 50 (use `np.zeros`) Average the LFP data over the first 125 points (0.1 s) of the first channel and store the value in the new array. Then repeat it for the next 125 points and so on.\n",
    "\n",
    "Can you find a vectorised solution to this problem?"
   ]
  },
  {
   "cell_type": "markdown",
   "metadata": {},
   "source": [
    "# SciPy"
   ]
  },
  {
   "cell_type": "markdown",
   "metadata": {},
   "source": [
    "* SciPy packages (stats, integrate, signal, fftpack)\n",
    "* calculate power spectrum"
   ]
  },
  {
   "cell_type": "code",
   "execution_count": 52,
   "metadata": {},
   "outputs": [],
   "source": [
    "from scipy import fftpack\n",
    "\n",
    "lfp_fft = fftpack.fft(data[:, 0])"
   ]
  },
  {
   "cell_type": "code",
   "execution_count": 53,
   "metadata": {},
   "outputs": [
    {
     "data": {
      "text/plain": [
       "(0, 20)"
      ]
     },
     "execution_count": 53,
     "metadata": {},
     "output_type": "execute_result"
    },
    {
     "data": {
      "image/png": "[encoded data removed]",
      "text/plain": [
       "<Figure size 432x288 with 1 Axes>"
      ]
     },
     "metadata": {
      "needs_background": "light"
     },
     "output_type": "display_data"
    }
   ],
   "source": [
    "frequency = np.arange(len(lfp_fft)) / len(lfp_fft) * sampling_frequency / 2\n",
    "plt.plot(frequency, np.abs(lfp_fft))\n",
    "plt.xlim(0, 20)"
   ]
  },
  {
   "cell_type": "markdown",
   "metadata": {},
   "source": [
    "**Exercise** Calculate the spectrum for every channel and average the spectra."
   ]
  },
  {
   "cell_type": "code",
   "execution_count": 54,
   "metadata": {},
   "outputs": [],
   "source": [
    "from matplotlib import pylab"
   ]
  },
  {
   "cell_type": "code",
   "execution_count": 55,
   "metadata": {},
   "outputs": [
    {
     "data": {
      "text/plain": [
       "\u001b[0;31mSignature:\u001b[0m\n",
       "\u001b[0mpylab\u001b[0m\u001b[0;34m.\u001b[0m\u001b[0mpsd\u001b[0m\u001b[0;34m(\u001b[0m\u001b[0;34m\u001b[0m\n",
       "\u001b[0;34m\u001b[0m    \u001b[0mx\u001b[0m\u001b[0;34m,\u001b[0m\u001b[0;34m\u001b[0m\n",
       "\u001b[0;34m\u001b[0m    \u001b[0mNFFT\u001b[0m\u001b[0;34m=\u001b[0m\u001b[0;32mNone\u001b[0m\u001b[0;34m,\u001b[0m\u001b[0;34m\u001b[0m\n",
       "\u001b[0;34m\u001b[0m    \u001b[0mFs\u001b[0m\u001b[0;34m=\u001b[0m\u001b[0;32mNone\u001b[0m\u001b[0;34m,\u001b[0m\u001b[0;34m\u001b[0m\n",
       "\u001b[0;34m\u001b[0m    \u001b[0mFc\u001b[0m\u001b[0;34m=\u001b[0m\u001b[0;32mNone\u001b[0m\u001b[0;34m,\u001b[0m\u001b[0;34m\u001b[0m\n",
       "\u001b[0;34m\u001b[0m    \u001b[0mdetrend\u001b[0m\u001b[0;34m=\u001b[0m\u001b[0;32mNone\u001b[0m\u001b[0;34m,\u001b[0m\u001b[0;34m\u001b[0m\n",
       "\u001b[0;34m\u001b[0m    \u001b[0mwindow\u001b[0m\u001b[0;34m=\u001b[0m\u001b[0;32mNone\u001b[0m\u001b[0;34m,\u001b[0m\u001b[0;34m\u001b[0m\n",
       "\u001b[0;34m\u001b[0m    \u001b[0mnoverlap\u001b[0m\u001b[0;34m=\u001b[0m\u001b[0;32mNone\u001b[0m\u001b[0;34m,\u001b[0m\u001b[0;34m\u001b[0m\n",
       "\u001b[0;34m\u001b[0m    \u001b[0mpad_to\u001b[0m\u001b[0;34m=\u001b[0m\u001b[0;32mNone\u001b[0m\u001b[0;34m,\u001b[0m\u001b[0;34m\u001b[0m\n",
       "\u001b[0;34m\u001b[0m    \u001b[0msides\u001b[0m\u001b[0;34m=\u001b[0m\u001b[0;32mNone\u001b[0m\u001b[0;34m,\u001b[0m\u001b[0;34m\u001b[0m\n",
       "\u001b[0;34m\u001b[0m    \u001b[0mscale_by_freq\u001b[0m\u001b[0;34m=\u001b[0m\u001b[0;32mNone\u001b[0m\u001b[0;34m,\u001b[0m\u001b[0;34m\u001b[0m\n",
       "\u001b[0;34m\u001b[0m    \u001b[0mreturn_line\u001b[0m\u001b[0;34m=\u001b[0m\u001b[0;32mNone\u001b[0m\u001b[0;34m,\u001b[0m\u001b[0;34m\u001b[0m\n",
       "\u001b[0;34m\u001b[0m    \u001b[0;34m*\u001b[0m\u001b[0;34m,\u001b[0m\u001b[0;34m\u001b[0m\n",
       "\u001b[0;34m\u001b[0m    \u001b[0mdata\u001b[0m\u001b[0;34m=\u001b[0m\u001b[0;32mNone\u001b[0m\u001b[0;34m,\u001b[0m\u001b[0;34m\u001b[0m\n",
       "\u001b[0;34m\u001b[0m    \u001b[0;34m**\u001b[0m\u001b[0mkwargs\u001b[0m\u001b[0;34m,\u001b[0m\u001b[0;34m\u001b[0m\n",
       "\u001b[0;34m\u001b[0m\u001b[0;34m)\u001b[0m\u001b[0;34m\u001b[0m\u001b[0;34m\u001b[0m\u001b[0m\n",
       "\u001b[0;31mDocstring:\u001b[0m\n",
       "Plot the power spectral density.\n",
       "\n",
       "Call signature::\n",
       "\n",
       "  psd(x, NFFT=256, Fs=2, Fc=0, detrend=mlab.detrend_none,\n",
       "      window=mlab.window_hanning, noverlap=0, pad_to=None,\n",
       "      sides='default', scale_by_freq=None, return_line=None, **kwargs)\n",
       "\n",
       "The power spectral density :math:`P_{xx}` by Welch's average\n",
       "periodogram method.  The vector *x* is divided into *NFFT* length\n",
       "segments.  Each segment is detrended by function *detrend* and\n",
       "windowed by function *window*.  *noverlap* gives the length of\n",
       "the overlap between segments.  The :math:`|\\mathrm{fft}(i)|^2`\n",
       "of each segment :math:`i` are averaged to compute :math:`P_{xx}`,\n",
       "with a scaling to correct for power loss due to windowing.\n",
       "\n",
       "If len(*x*) < *NFFT*, it will be zero padded to *NFFT*.\n",
       "\n",
       "Parameters\n",
       "----------\n",
       "x : 1-D array or sequence\n",
       "    Array or sequence containing the data\n",
       "\n",
       "Fs : scalar\n",
       "    The sampling frequency (samples per time unit).  It is used\n",
       "    to calculate the Fourier frequencies, freqs, in cycles per time\n",
       "    unit. The default value is 2.\n",
       "\n",
       "window : callable or ndarray\n",
       "    A function or a vector of length *NFFT*. To create window\n",
       "    vectors see :func:`window_hanning`, :func:`window_none`,\n",
       "    :func:`numpy.blackman`, :func:`numpy.hamming`,\n",
       "    :func:`numpy.bartlett`, :func:`scipy.signal`,\n",
       "    :func:`scipy.signal.get_window`, etc. The default is\n",
       "    :func:`window_hanning`.  If a function is passed as the\n",
       "    argument, it must take a data segment as an argument and\n",
       "    return the windowed version of the segment.\n",
       "\n",
       "sides : {'default', 'onesided', 'twosided'}\n",
       "    Specifies which sides of the spectrum to return.  Default gives the\n",
       "    default behavior, which returns one-sided for real data and both\n",
       "    for complex data.  'onesided' forces the return of a one-sided\n",
       "    spectrum, while 'twosided' forces two-sided.\n",
       "\n",
       "pad_to : int\n",
       "    The number of points to which the data segment is padded when\n",
       "    performing the FFT.  This can be different from *NFFT*, which\n",
       "    specifies the number of data points used.  While not increasing\n",
       "    the actual resolution of the spectrum (the minimum distance between\n",
       "    resolvable peaks), this can give more points in the plot,\n",
       "    allowing for more detail. This corresponds to the *n* parameter\n",
       "    in the call to fft(). The default is None, which sets *pad_to*\n",
       "    equal to *NFFT*\n",
       "\n",
       "NFFT : int\n",
       "    The number of data points used in each block for the FFT.\n",
       "    A power 2 is most efficient.  The default value is 256.\n",
       "    This should *NOT* be used to get zero padding, or the scaling of the\n",
       "    result will be incorrect. Use *pad_to* for this instead.\n",
       "\n",
       "detrend : {'default', 'constant', 'mean', 'linear', 'none'} or callable\n",
       "    The function applied to each segment before fft-ing,\n",
       "    designed to remove the mean or linear trend.  Unlike in\n",
       "    MATLAB, where the *detrend* parameter is a vector, in\n",
       "    matplotlib is it a function.  The :mod:`~matplotlib.mlab`\n",
       "    module defines :func:`~matplotlib.mlab.detrend_none`,\n",
       "    :func:`~matplotlib.mlab.detrend_mean`, and\n",
       "    :func:`~matplotlib.mlab.detrend_linear`, but you can use\n",
       "    a custom function as well.  You can also use a string to choose\n",
       "    one of the functions.  'default', 'constant', and 'mean' call\n",
       "    :func:`~matplotlib.mlab.detrend_mean`.  'linear' calls\n",
       "    :func:`~matplotlib.mlab.detrend_linear`.  'none' calls\n",
       "    :func:`~matplotlib.mlab.detrend_none`.\n",
       "\n",
       "scale_by_freq : bool, optional\n",
       "    Specifies whether the resulting density values should be scaled\n",
       "    by the scaling frequency, which gives density in units of Hz^-1.\n",
       "    This allows for integration over the returned frequency values.\n",
       "    The default is True for MATLAB compatibility.\n",
       "\n",
       "noverlap : int\n",
       "    The number of points of overlap between segments.\n",
       "    The default value is 0 (no overlap).\n",
       "\n",
       "Fc : int\n",
       "    The center frequency of *x* (defaults to 0), which offsets\n",
       "    the x extents of the plot to reflect the frequency range used\n",
       "    when a signal is acquired and then filtered and downsampled to\n",
       "    baseband.\n",
       "\n",
       "return_line : bool\n",
       "    Whether to include the line object plotted in the returned values.\n",
       "    Default is False.\n",
       "\n",
       "Returns\n",
       "-------\n",
       "Pxx : 1-D array\n",
       "    The values for the power spectrum `P_{xx}` before scaling\n",
       "    (real valued).\n",
       "\n",
       "freqs : 1-D array\n",
       "    The frequencies corresponding to the elements in *Pxx*.\n",
       "\n",
       "line : a :class:`~matplotlib.lines.Line2D` instance\n",
       "    The line created by this function.\n",
       "    Only returned if *return_line* is True.\n",
       "\n",
       "Other Parameters\n",
       "----------------\n",
       "**kwargs :\n",
       "    Keyword arguments control the :class:`~matplotlib.lines.Line2D`\n",
       "    properties:\n",
       "\n",
       "      agg_filter: a filter function, which takes a (m, n, 3) float array and a dpi value, and returns a (m, n, 3) array \n",
       "  alpha: float\n",
       "  animated: bool\n",
       "  antialiased: bool\n",
       "  clip_box: `.Bbox`\n",
       "  clip_on: bool\n",
       "  clip_path: [(`~matplotlib.path.Path`, `.Transform`) | `.Patch` | None] \n",
       "  color: color\n",
       "  contains: callable\n",
       "  dash_capstyle: {'butt', 'round', 'projecting'}\n",
       "  dash_joinstyle: {'miter', 'round', 'bevel'}\n",
       "  dashes: sequence of floats (on/off ink in points) or (None, None)\n",
       "  drawstyle: {'default', 'steps', 'steps-pre', 'steps-mid', 'steps-post'}\n",
       "  figure: `.Figure`\n",
       "  fillstyle: {'full', 'left', 'right', 'bottom', 'top', 'none'}\n",
       "  gid: str\n",
       "  in_layout: bool\n",
       "  label: object\n",
       "  linestyle: {'-', '--', '-.', ':', '', (offset, on-off-seq), ...}\n",
       "  linewidth: float\n",
       "  marker: unknown\n",
       "  markeredgecolor: color\n",
       "  markeredgewidth: float\n",
       "  markerfacecolor: color\n",
       "  markerfacecoloralt: color\n",
       "  markersize: float\n",
       "  markevery: unknown\n",
       "  path_effects: `.AbstractPathEffect`\n",
       "  picker: float or callable[[Artist, Event], Tuple[bool, dict]]\n",
       "  pickradius: float\n",
       "  rasterized: bool or None\n",
       "  sketch_params: (scale: float, length: float, randomness: float) \n",
       "  snap: bool or None\n",
       "  solid_capstyle: {'butt', 'round', 'projecting'}\n",
       "  solid_joinstyle: {'miter', 'round', 'bevel'}\n",
       "  transform: matplotlib.transforms.Transform\n",
       "  url: str\n",
       "  visible: bool\n",
       "  xdata: 1D array\n",
       "  ydata: 1D array\n",
       "  zorder: float\n",
       "\n",
       "See Also\n",
       "--------\n",
       ":func:`specgram`\n",
       "    :func:`specgram` differs in the default overlap; in not returning\n",
       "    the mean of the segment periodograms; in returning the times of the\n",
       "    segments; and in plotting a colormap instead of a line.\n",
       "\n",
       ":func:`magnitude_spectrum`\n",
       "    :func:`magnitude_spectrum` plots the magnitude spectrum.\n",
       "\n",
       ":func:`csd`\n",
       "    :func:`csd` plots the spectral density between two signals.\n",
       "\n",
       "Notes\n",
       "-----\n",
       "For plotting, the power is plotted as\n",
       ":math:`10\\log_{10}(P_{xx})` for decibels, though *Pxx* itself\n",
       "is returned.\n",
       "\n",
       "References\n",
       "----------\n",
       "Bendat & Piersol -- Random Data: Analysis and Measurement Procedures,\n",
       "John Wiley & Sons (1986)\n",
       "\n",
       ".. note::\n",
       "    In addition to the above described arguments, this function can take a\n",
       "    **data** keyword argument. If such a **data** argument is given, the\n",
       "    following arguments are replaced by **data[<arg>]**:\n",
       "\n",
       "    * All arguments with the following names: 'x'.\n",
       "\n",
       "    Objects passed as **data** must support item access (``data[<arg>]``) and\n",
       "    membership test (``<arg> in data``).\n",
       "\u001b[0;31mFile:\u001b[0m      ~/.pyenv/versions/3.7.2/envs/eitn-school/lib/python3.7/site-packages/matplotlib/pyplot.py\n",
       "\u001b[0;31mType:\u001b[0m      function\n"
      ]
     },
     "metadata": {},
     "output_type": "display_data"
    }
   ],
   "source": [
    "pylab.psd?"
   ]
  },
  {
   "cell_type": "code",
   "execution_count": null,
   "metadata": {},
   "outputs": [],
   "source": []
  }
 ],
 "metadata": {
  "kernelspec": {
   "display_name": "Python 3",
   "language": "python",
   "name": "python3"
  },
  "language_info": {
   "codemirror_mode": {
    "name": "ipython",
    "version": 3
   },
   "file_extension": ".py",
   "mimetype": "text/x-python",
   "name": "python",
   "nbconvert_exporter": "python",
   "pygments_lexer": "ipython3",
   "version": "3.7.3"
  },
  "toc-autonumbering": true,
  "toc-showcode": false,
  "toc-showtags": false
 },
 "nbformat": 4,
 "nbformat_minor": 4
}
